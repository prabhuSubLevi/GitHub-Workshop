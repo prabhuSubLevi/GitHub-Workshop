{
 "cells": [
  {
   "cell_type": "markdown",
   "metadata": {
    "slideshow": {
     "slide_type": "slide"
    }
   },
   "source": [
    "# GitHub Workshop\n",
    "\n",
    "<img src=\"./Images/Git-Largest.jpg\">"
   ]
  },
  {
   "cell_type": "markdown",
   "metadata": {
    "slideshow": {
     "slide_type": "slide"
    }
   },
   "source": [
    "### About Version Control System(VCS)\n",
    "\n",
    "\n",
    "What is “version control”, and why should you use?\n",
    "\n",
    "Version control is a system that records changes to a file or set of files over time so that you can recall specific versions later."
   ]
  },
  {
   "cell_type": "markdown",
   "metadata": {
    "slideshow": {
     "slide_type": "subslide"
    }
   },
   "source": [
    "#### Centralised Version Control Systems\n",
    "\n",
    "\n",
    "<img src=\"./Images/image1.PNG\" width=\"500\">"
   ]
  },
  {
   "cell_type": "markdown",
   "metadata": {
    "slideshow": {
     "slide_type": "subslide"
    }
   },
   "source": [
    "#### Distributed Version Control Systems - Which is our Git\n",
    "\n",
    "\n",
    "<img src=\"./Images/image2.PNG\" width=\"450\">"
   ]
  },
  {
   "cell_type": "markdown",
   "metadata": {
    "slideshow": {
     "slide_type": "slide"
    }
   },
   "source": [
    "### Important difference between Git and other VCS\n",
    "\n",
    "The major difference between Git and any other VCS (Subversion and friends included) is the way Git thinks about its data.\n",
    "\n",
    "Git consideres the files as\n",
    "#### Snapshots, Not Differences"
   ]
  },
  {
   "cell_type": "markdown",
   "metadata": {
    "slideshow": {
     "slide_type": "slide"
    }
   },
   "source": [
    "# Git Basics"
   ]
  },
  {
   "cell_type": "markdown",
   "metadata": {
    "slideshow": {
     "slide_type": "subslide"
    }
   },
   "source": [
    "### The Three States\n",
    "\n",
    "----------------------------------------\n",
    "\n",
    "`committed`\n",
    "`modified` and \n",
    "`staged`\n",
    "\n",
    "\n",
    "* Committed means that the data is safely stored in your local database.\n",
    "* Modified means that you have changed the file but have not committed it to your database yet.\n",
    "* Staged means that you have marked a modified file in its current version to go into your next commit *_snapshot_*."
   ]
  },
  {
   "cell_type": "markdown",
   "metadata": {
    "slideshow": {
     "slide_type": "subslide"
    }
   },
   "source": [
    "### The Three States\n",
    "\n",
    "<img src=\"./Images/image3.PNG\" width=\"700\">"
   ]
  },
  {
   "cell_type": "markdown",
   "metadata": {
    "slideshow": {
     "slide_type": "slide"
    }
   },
   "source": [
    "## Installing Git(GitBash)"
   ]
  },
  {
   "cell_type": "markdown",
   "metadata": {
    "slideshow": {
     "slide_type": "slide"
    }
   },
   "source": [
    "## Customizing Git"
   ]
  },
  {
   "cell_type": "markdown",
   "metadata": {
    "slideshow": {
     "slide_type": "subslide"
    }
   },
   "source": [
    "Importance of `git config`\n",
    "\n",
    "#### Two Main `config` comands :\n",
    "\n",
    "--------------------------------------------------\n",
    "\n",
    "\n",
    "* $ `git config --global user.name \"John Doe\"`\n",
    "\n",
    " \n",
    "* $ `git config --global user.email johndoe@example.com`\n",
    "\n",
    "\n",
    "---------------------------------------------------\n",
    " \n",
    "*You need to do this only once*"
   ]
  },
  {
   "cell_type": "markdown",
   "metadata": {
    "slideshow": {
     "slide_type": "slide"
    }
   },
   "source": [
    "An example of `config` to change your editor\n",
    "\n",
    "--------------------------------------------\n",
    "\n",
    "\n",
    "* $ `git config --global core.editor \"'C:/Program Files/Notepad++/notepad++.exe' -multiInst -nosession\"`\n",
    "\n"
   ]
  },
  {
   "cell_type": "markdown",
   "metadata": {
    "slideshow": {
     "slide_type": "slide"
    }
   },
   "source": [
    "### Creating/Cloning repository\n",
    "-----------------------------------------------\n",
    "\n",
    "Two ways of getting Git repository:\n",
    "    * Create/Use one local repository as a Git repository\n",
    "    * Clone one that is already created\n",
    "\n"
   ]
  },
  {
   "cell_type": "markdown",
   "metadata": {
    "slideshow": {
     "slide_type": "subslide"
    }
   },
   "source": [
    "To create a local repository\n",
    "\n",
    "---------------------------------------------\n",
    "\n",
    "* $ `cd /c/user/my_project`\n",
    "\n",
    "* $ `git init`\n",
    "\n"
   ]
  },
  {
   "cell_type": "markdown",
   "metadata": {
    "slideshow": {
     "slide_type": "subslide"
    }
   },
   "source": [
    "To clone a repository\n",
    "\n",
    "---------------------------------------------\n",
    "\n",
    "* $ `git clone <link>`\n",
    "\n",
    "---------------------------------------------\n",
    "\n",
    "Link to the repository ending with .git.\n",
    "\n",
    "ex: `<link>` - https://github.com/prabhuSub/Text-based-Game-using-Python.git\n",
    "\n",
    "This creates a directory and also initiates a .git in the folder"
   ]
  },
  {
   "cell_type": "markdown",
   "metadata": {
    "slideshow": {
     "slide_type": "subslide"
    }
   },
   "source": [
    "### Recording changes to your repository\n",
    "\n",
    "---------------------------------------\n",
    "\n",
    "<img src=\"./Images/image4.PNG\" width=\"700\">"
   ]
  },
  {
   "cell_type": "markdown",
   "metadata": {
    "slideshow": {
     "slide_type": "slide"
    }
   },
   "source": [
    "Once my Git repository is setup, I usually go with a first command, which is:\n",
    "\n",
    "-----------------------------------------\n",
    "\n",
    "* $ `git status`\n",
    "\n",
    "----------------------------\n",
    "\n",
    "It gives you an output similar to the below if you have nothing to commit:\n",
    "\n",
    "* $ `git status`\n",
    "\n",
    "```\n",
    "On branch master\n",
    "Your branch is up-to-date with 'origin/master'.\n",
    "nothing to commit, working directory clean\n",
    "\n",
    "```"
   ]
  },
  {
   "cell_type": "markdown",
   "metadata": {
    "slideshow": {
     "slide_type": "subslide"
    }
   },
   "source": [
    "* $ `git fetch`\n",
    "\n",
    "`git fetch` command only downloads the data to your local repository — it doesn’t automatically merge it with any of your work or modify what you’re currently working on. You have to merge it manually into your work when\n",
    "you’re ready.\n",
    "\n",
    "-------------------------------------------------\n",
    "* $ `git pull` \n",
    "\n",
    "`git pull` automatically fetch and then merge that\n",
    "remote branch into your current branch"
   ]
  },
  {
   "cell_type": "markdown",
   "metadata": {
    "slideshow": {
     "slide_type": "subslide"
    }
   },
   "source": [
    "* $ `git push <remote> <branch>`\n",
    "    \n",
    "    If you want to push your master branch to your origin server (again, cloning generally sets up both of those names for you automatically), then you can run this to push any commits you’ve done back up to the server"
   ]
  },
  {
   "cell_type": "markdown",
   "metadata": {
    "slideshow": {
     "slide_type": "subslide"
    }
   },
   "source": [
    "* $`git tag`\n",
    "\n",
    "    Creating tags help you name the versions and later see the version hostory and their logs respectively. \n",
    "    \n",
    "    Ex:\n",
    "    \n",
    " <img src=\"./Images/code1.PNG\" width=\"500\">\n",
    "    \n",
    "    "
   ]
  },
  {
   "cell_type": "markdown",
   "metadata": {
    "slideshow": {
     "slide_type": "slide"
    }
   },
   "source": [
    "## Git Branching\n",
    "\n",
    "Nearly every VCS has some form of branching support. Branching means you diverge from the main line of development and continue to do work without messing with that main line."
   ]
  },
  {
   "cell_type": "markdown",
   "metadata": {
    "slideshow": {
     "slide_type": "subslide"
    }
   },
   "source": [
    "#### This is how your actual commits for a file is mapped to the system.\n",
    "\n",
    "<img src=\"./Images/image5.PNG\" width=\"800\">"
   ]
  },
  {
   "cell_type": "markdown",
   "metadata": {
    "slideshow": {
     "slide_type": "subslide"
    }
   },
   "source": [
    "#### Now, further if you commit more contents or changes to your files, the further linking of the commits with the address is as shown below:\n",
    "\n",
    "------------------------\n",
    "\n",
    "\n",
    "<img src=\"./Images/image6.PNG\" width=\"800\">"
   ]
  },
  {
   "cell_type": "markdown",
   "metadata": {
    "slideshow": {
     "slide_type": "fragment"
    }
   },
   "source": [
    "How does Git know what branch you’re currently on? It keeps a special pointer called `HEAD`"
   ]
  },
  {
   "cell_type": "markdown",
   "metadata": {
    "slideshow": {
     "slide_type": "subslide"
    }
   },
   "source": [
    "<img src=\"./Images/image7.PNG\" width=\"600\">"
   ]
  },
  {
   "cell_type": "markdown",
   "metadata": {
    "slideshow": {
     "slide_type": "subslide"
    }
   },
   "source": [
    "### Creating a new branch\n",
    "\n",
    "* $ `git branch testing`\n",
    "\n",
    "This creates a new branch called \"testing\"\n"
   ]
  },
  {
   "cell_type": "markdown",
   "metadata": {
    "slideshow": {
     "slide_type": "subslide"
    }
   },
   "source": [
    "<img src=\"./Images/image8.PNG\" width=\"600\">"
   ]
  },
  {
   "cell_type": "markdown",
   "metadata": {
    "slideshow": {
     "slide_type": "subslide"
    }
   },
   "source": [
    "Now, as a branch has been created, I would like to get into it to start working with it\n",
    "\n",
    "* $ `git checkout testing`\n",
    "\n",
    "This moves HEAD to point to the testing branch\n",
    "Always, keep in mind how `HEAD` is working and would be pointing.\n",
    "Thats the key to not get cofused while working with Git"
   ]
  },
  {
   "cell_type": "markdown",
   "metadata": {
    "slideshow": {
     "slide_type": "subslide"
    }
   },
   "source": [
    "<img src=\"./Images/image9.PNG\" width=\"600\">"
   ]
  },
  {
   "cell_type": "markdown",
   "metadata": {
    "slideshow": {
     "slide_type": "subslide"
    }
   },
   "source": [
    "Now, If I perfrom a `commit`, my `HEAD` will move ahead\n",
    "\n",
    "<img src=\"./Images/image10.PNG\" width=\"600\">"
   ]
  },
  {
   "cell_type": "markdown",
   "metadata": {
    "slideshow": {
     "slide_type": "fragment"
    }
   },
   "source": [
    "Now, If I commit by getting into `master` and update something, what do you think will happen?"
   ]
  },
  {
   "cell_type": "markdown",
   "metadata": {
    "slideshow": {
     "slide_type": "subslide"
    }
   },
   "source": [
    "### The `Head` moves to a new address for the master\n",
    "\n",
    "\n",
    "<img src=\"./Images/image11.PNG\" width=\"800\">"
   ]
  },
  {
   "cell_type": "markdown",
   "metadata": {
    "slideshow": {
     "slide_type": "subslide"
    }
   },
   "source": [
    "To view the branch commits in a graphical term, below is the command:\n",
    "    \n",
    "* & `git log --oneline --decorate --graph --all`"
   ]
  },
  {
   "cell_type": "markdown",
   "metadata": {
    "slideshow": {
     "slide_type": "subslide"
    }
   },
   "source": [
    "It will look somewhat, like the below depending on the number of branches and commits you have :\n"
   ]
  },
  {
   "cell_type": "markdown",
   "metadata": {
    "slideshow": {
     "slide_type": "fragment"
    }
   },
   "source": [
    "<img src=\"./Images/branching.PNG\" width=\"800\">"
   ]
  },
  {
   "cell_type": "markdown",
   "metadata": {
    "slideshow": {
     "slide_type": "subslide"
    }
   },
   "source": [
    "Merging your changes from one branch to another.\n",
    "\n",
    "* $ `git checkout master`\n",
    "\n",
    "* $ `git merge hotfix`\n",
    "\n",
    "```\n",
    "Updating f42c576..3a0874c\n",
    "Fast-forward\n",
    "index.html | 2 ++\n",
    "1 file changed, 2 insertions(+)\n",
    " ```"
   ]
  },
  {
   "cell_type": "markdown",
   "metadata": {
    "slideshow": {
     "slide_type": "subslide"
    }
   },
   "source": [
    "### Stashing and Cleaning the branch"
   ]
  },
  {
   "cell_type": "markdown",
   "metadata": {
    "slideshow": {
     "slide_type": "subslide"
    }
   },
   "source": [
    "Stashing takes the dirty state of your working directory — that is, your modified tracked files and\n",
    "staged changes — and saves it on a stack of unfinished changes that you can reapply at any time\n",
    "(even on a different branch)\n",
    "\n",
    "* $ `git stash`\n",
    "\n",
    "\n",
    "Finally, you may not want to stash some work or files in your working directory, but simply get rid\n",
    "of them. The git clean command will do this for you.\n",
    "\n",
    "* $ `git clean`"
   ]
  },
  {
   "cell_type": "markdown",
   "metadata": {
    "slideshow": {
     "slide_type": "slide"
    }
   },
   "source": [
    "#### General sequence of events for a simple multiple-developer Git workflow\n",
    "\n",
    "<img src=\"./Images/image12.PNG\" width=\"450\">"
   ]
  },
  {
   "cell_type": "markdown",
   "metadata": {
    "slideshow": {
     "slide_type": "subslide"
    }
   },
   "source": [
    "#### Basic sequence of this managed-team workflow.\n",
    "\n",
    "<img src=\"./Images/image13.PNG\" width=\"500\">"
   ]
  },
  {
   "cell_type": "markdown",
   "metadata": {
    "slideshow": {
     "slide_type": "subslide"
    }
   },
   "source": [
    "At the end, I would provide you the book that I use, and always refer to if I face any issues with Git. Feel free to use and learn. Below are the links\n",
    "\n",
    "### [Git Reference Book](Books/progit.pdf)\n",
    "\n",
    "\n",
    "Also, a Git Cheat Sheet for a quick reference\n",
    "\n",
    "\n",
    "### [Git Cheet Sheet](Books/github-git-cheat-sheet.pdf)"
   ]
  },
  {
   "cell_type": "markdown",
   "metadata": {
    "slideshow": {
     "slide_type": "slide"
    }
   },
   "source": [
    "## <center>Thank you</center>\n",
    "\n",
    "<font size=\"4\">\n",
    "    \n",
    "MIT License\n",
    "\n",
    "<img src=\"./Images/OSI_Approved_License.png\" width=\"100\" align=\"right\">\n",
    "\n",
    "Copyright (c) 2019 Prabhu Subramanian\n",
    "\n",
    "Permission is hereby granted, free of charge, to any person obtaining a copy\n",
    "of this software and associated documentation files (the \"Software\"), to deal\n",
    "in the Software without restriction, including without limitation the rights\n",
    "to use, copy, modify, merge, publish, distribute, sublicense, and/or sell\n",
    "copies of the Software, and to permit persons to whom the Software is\n",
    "furnished to do so, subject to the following conditions:\n",
    "\n",
    "The above copyright notice and this permission notice shall be included in all\n",
    "copies or substantial portions of the Software.\n",
    "\n",
    "THE SOFTWARE IS PROVIDED \"AS IS\", WITHOUT WARRANTY OF ANY KIND, EXPRESS OR\n",
    "IMPLIED, INCLUDING BUT NOT LIMITED TO THE WARRANTIES OF MERCHANTABILITY,\n",
    "FITNESS FOR A PARTICULAR PURPOSE AND NONINFRINGEMENT. IN NO EVENT SHALL THE\n",
    "AUTHORS OR COPYRIGHT HOLDERS BE LIABLE FOR ANY CLAIM, DAMAGES OR OTHER\n",
    "LIABILITY, WHETHER IN AN ACTION OF CONTRACT, TORT OR OTHERWISE, ARISING FROM,\n",
    "OUT OF OR IN CONNECTION WITH THE SOFTWARE OR THE USE OR OTHER DEALINGS IN THE\n",
    "SOFTWARE.</font>"
   ]
  }
 ],
 "metadata": {
  "kernelspec": {
   "display_name": "Python 3",
   "language": "python",
   "name": "python3"
  },
  "language_info": {
   "codemirror_mode": {
    "name": "ipython",
    "version": 3
   },
   "file_extension": ".py",
   "mimetype": "text/x-python",
   "name": "python",
   "nbconvert_exporter": "python",
   "pygments_lexer": "ipython3",
   "version": "3.8.8"
  },
  "varInspector": {
   "cols": {
    "lenName": 16,
    "lenType": 16,
    "lenVar": 40
   },
   "kernels_config": {
    "python": {
     "delete_cmd_postfix": "",
     "delete_cmd_prefix": "del ",
     "library": "var_list.py",
     "varRefreshCmd": "print(var_dic_list())"
    },
    "r": {
     "delete_cmd_postfix": ") ",
     "delete_cmd_prefix": "rm(",
     "library": "var_list.r",
     "varRefreshCmd": "cat(var_dic_list()) "
    }
   },
   "types_to_exclude": [
    "module",
    "function",
    "builtin_function_or_method",
    "instance",
    "_Feature"
   ],
   "window_display": false
  },
  "vscode": {
   "interpreter": {
    "hash": "3bd408ff1bcc0a709e8bd9cdad3d7873c9df9b79fc6514ba7d932b887bb69cfa"
   }
  }
 },
 "nbformat": 4,
 "nbformat_minor": 2
}
